{
  "cells": [
    {
      "cell_type": "markdown",
      "id": "d3df79dd",
      "metadata": {
        "id": "d3df79dd"
      },
      "source": [
        "## Упражнения по библиотеке Numpy"
      ]
    },
    {
      "cell_type": "code",
      "execution_count": 2,
      "id": "76b9c43b",
      "metadata": {
        "id": "76b9c43b"
      },
      "outputs": [],
      "source": [
        "import numpy as np\n",
        "import random\n",
        "from math import prod\n",
        "from collections import Counter\n",
        "import math\n",
        "from scipy.spatial.distance import cdist\n",
        "import time"
      ]
    },
    {
      "cell_type": "markdown",
      "id": "03727b7c",
      "metadata": {
        "id": "03727b7c"
      },
      "source": [
        "**1.** Дан случайный массив, поменять знак у элементов, значения которых между 3 и 8"
      ]
    },
    {
      "cell_type": "code",
      "execution_count": 3,
      "id": "b89a7523",
      "metadata": {
        "colab": {
          "base_uri": "https://localhost:8080/"
        },
        "id": "b89a7523",
        "outputId": "d3d663ca-0701-4aa5-b015-7cf46234b908"
      },
      "outputs": [
        {
          "name": "stdout",
          "output_type": "stream",
          "text": [
            "Original array:\n",
            " [ 4  5 15  1 17 13 15 16 15 12]\n",
            "\n",
            "Result array:\n",
            " [-4 -5 15  1 17 13 15 16 15 12]\n"
          ]
        }
      ],
      "source": [
        "arr = np.random.randint(low=0, high=20, size=(10))\n",
        "print(\"Original array:\\n\", arr)\n",
        "\n",
        "arr = np.where((arr > 3) & (arr < 8), -arr, arr)\n",
        "print(\"\\nResult array:\\n\", arr)"
      ]
    },
    {
      "cell_type": "markdown",
      "id": "5fa4abda",
      "metadata": {
        "id": "5fa4abda"
      },
      "source": [
        "**2.** Заменить максимальный элемент случайного массива на 0"
      ]
    },
    {
      "cell_type": "code",
      "execution_count": 4,
      "id": "f2788a6e",
      "metadata": {
        "colab": {
          "base_uri": "https://localhost:8080/"
        },
        "id": "f2788a6e",
        "outputId": "2f8474c8-9782-4786-b434-e638d4975a67"
      },
      "outputs": [
        {
          "name": "stdout",
          "output_type": "stream",
          "text": [
            "Original array:\n",
            " [14 10  7  4 15  7  1 19  6 18]\n",
            "\n",
            "Result array:\n",
            " [14 10  7  4 15  7  1  0  6 18]\n"
          ]
        }
      ],
      "source": [
        "arr = np.random.randint(low=0, high=20, size=(10))\n",
        "print(\"Original array:\\n\", arr)\n",
        "arr[np.where(arr == np.max(arr))[0]] = 0\n",
        "print(\"\\nResult array:\\n\", arr)"
      ]
    },
    {
      "cell_type": "markdown",
      "id": "3cac656b",
      "metadata": {
        "id": "3cac656b"
      },
      "source": [
        "**3.** Построить прямое произведение массивов (все комбинации с каждым элементом). На вход подается двумерный массив"
      ]
    },
    {
      "cell_type": "code",
      "execution_count": 5,
      "id": "3396b764",
      "metadata": {
        "colab": {
          "base_uri": "https://localhost:8080/"
        },
        "id": "3396b764",
        "outputId": "3a17c3d2-8e18-4b99-b6c2-55e59d296aa7"
      },
      "outputs": [
        {
          "name": "stdout",
          "output_type": "stream",
          "text": [
            "[[1 1]\n",
            " [1 2]\n",
            " [1 3]\n",
            " [1 4]\n",
            " [2 1]\n",
            " [2 2]\n",
            " [2 3]\n",
            " [2 4]\n",
            " [3 1]\n",
            " [3 2]\n",
            " [3 3]\n",
            " [3 4]\n",
            " [4 1]\n",
            " [4 2]\n",
            " [4 3]\n",
            " [4 4]]\n"
          ]
        }
      ],
      "source": [
        "arr = np.array([[1, 2], [3, 4]])\n",
        "flat_arr = arr.flatten()\n",
        "result = np.array(np.meshgrid(flat_arr, flat_arr)).T.reshape(-1, 2)\n",
        "print(result)"
      ]
    },
    {
      "cell_type": "markdown",
      "id": "674c9354",
      "metadata": {
        "id": "674c9354"
      },
      "source": [
        "**4.** Даны 2 массива A (8x3) и B (2x2). Найти строки в A, которые содержат элементы из каждой строки в B, независимо от порядка элементов в B"
      ]
    },
    {
      "cell_type": "code",
      "execution_count": 6,
      "id": "cb664782",
      "metadata": {
        "colab": {
          "base_uri": "https://localhost:8080/"
        },
        "id": "cb664782",
        "outputId": "db15349e-f786-4fd3-b26e-22ff40514869"
      },
      "outputs": [
        {
          "name": "stdout",
          "output_type": "stream",
          "text": [
            "Matrix A:\n",
            " [[2 3 3]\n",
            " [2 1 1]\n",
            " [0 0 4]\n",
            " [2 1 2]\n",
            " [3 1 2]\n",
            " [2 2 1]\n",
            " [4 2 0]\n",
            " [0 0 2]]\n",
            "\n",
            "Matrix B:\n",
            " [[2 3]\n",
            " [0 3]]\n",
            "\n",
            "Result:\n",
            " [[2 3 3]\n",
            " [3 1 2]\n",
            " [4 2 0]\n",
            " [0 0 2]]\n"
          ]
        }
      ],
      "source": [
        "A = np.random.randint(low=0, high=5, size=(8, 3))\n",
        "B = np.random.randint(low=0, high=5, size=(2, 2))\n",
        "\n",
        "print(\"Matrix A:\\n\", A)\n",
        "print(\"\\nMatrix B:\\n\", B)\n",
        "\n",
        "res = np.full(shape=(8), fill_value=True)\n",
        "\n",
        "for i in range(B.ndim):\n",
        "    is_in_B = np.isin(A, B[i])\n",
        "    is_in_B = np.any(is_in_B, axis=1)\n",
        "    res = res & is_in_B\n",
        "\n",
        "C = A[res, :]\n",
        "print(\"\\nResult:\\n\", C)"
      ]
    },
    {
      "cell_type": "markdown",
      "id": "fa46533b",
      "metadata": {
        "id": "fa46533b"
      },
      "source": [
        "**5.** Дана 10x3 матрица, найти строки из неравных значений (например строка [2,2,3] остается, строка [3,3,3] удаляется)"
      ]
    },
    {
      "cell_type": "code",
      "execution_count": 7,
      "id": "fa545b23",
      "metadata": {
        "colab": {
          "base_uri": "https://localhost:8080/"
        },
        "id": "fa545b23",
        "outputId": "17d5355d-31ea-4900-bcef-a80052c69571"
      },
      "outputs": [
        {
          "name": "stdout",
          "output_type": "stream",
          "text": [
            "Original matrix: \n",
            " [[0 1 1]\n",
            " [1 1 0]\n",
            " [0 0 0]\n",
            " [1 0 0]\n",
            " [1 1 1]\n",
            " [1 0 0]\n",
            " [1 0 1]\n",
            " [1 0 1]\n",
            " [1 0 0]\n",
            " [0 1 0]]\n",
            "\n",
            "Result matrix:\n",
            " [[0 1 1]\n",
            " [1 1 0]\n",
            " [1 0 0]\n",
            " [1 0 0]\n",
            " [1 0 1]\n",
            " [1 0 1]\n",
            " [1 0 0]\n",
            " [0 1 0]]\n"
          ]
        }
      ],
      "source": [
        "m = np.random.randint(low=0, high=2, size=(10, 3))\n",
        "print(\"Original matrix: \\n\", m)\n",
        "\n",
        "idx = np.apply_along_axis(lambda x: len(np.unique(x)) > 1, axis=1, arr=m)\n",
        "print(\"\\nResult matrix:\\n\", m[idx])"
      ]
    },
    {
      "cell_type": "markdown",
      "id": "28f0d116",
      "metadata": {
        "id": "28f0d116"
      },
      "source": [
        "**6.** Дан двумерный массив. Удалить те строки, которые повторяются"
      ]
    },
    {
      "cell_type": "code",
      "execution_count": 8,
      "id": "83d2c0b7",
      "metadata": {
        "colab": {
          "base_uri": "https://localhost:8080/"
        },
        "id": "83d2c0b7",
        "outputId": "269cbff4-1f98-47de-b1d9-af4c06d0a0ef"
      },
      "outputs": [
        {
          "name": "stdout",
          "output_type": "stream",
          "text": [
            "Original matrix:\n",
            " [[1 1 0]\n",
            " [1 0 0]\n",
            " [1 0 0]\n",
            " [0 0 1]\n",
            " [1 1 0]\n",
            " [1 0 0]\n",
            " [0 0 0]\n",
            " [0 0 0]\n",
            " [0 1 0]\n",
            " [0 1 0]]\n",
            "\n",
            "Result matrix:\n",
            " [[0 0 0]\n",
            " [0 0 1]\n",
            " [0 1 0]\n",
            " [1 0 0]\n",
            " [1 1 0]]\n"
          ]
        }
      ],
      "source": [
        "arr = np.random.randint(low=0, high=2, size=(10, 3))\n",
        "print(\"Original matrix:\\n\", arr)\n",
        "\n",
        "arr = np.unique(arr, axis=0)\n",
        "print(\"\\nResult matrix:\\n\", arr)"
      ]
    },
    {
      "cell_type": "markdown",
      "id": "6daa9e37",
      "metadata": {
        "id": "6daa9e37"
      },
      "source": [
        "______\n",
        "______"
      ]
    },
    {
      "cell_type": "markdown",
      "id": "cfbfcaff",
      "metadata": {
        "id": "cfbfcaff"
      },
      "source": [
        "Для каждой из следующих задач (1-5) нужно привести 2 реализации – одна без использования numpy (cчитайте, что там, где на входе или выходе должны быть numpy array, будут просто списки), а вторая полностью векторизованная с использованием numpy (без использования питоновских циклов/map/list comprehension).\n",
        "\n",
        "\n",
        "__Замечание 1.__ Можно считать, что все указанные объекты непустые (к примеру, в __задаче 1__ на диагонали матрицы есть ненулевые элементы).\n",
        "\n",
        "__Замечание 2.__ Для большинства задач решение занимает не больше 1-2 строк."
      ]
    },
    {
      "cell_type": "markdown",
      "id": "673cac7f",
      "metadata": {
        "id": "673cac7f"
      },
      "source": [
        "___"
      ]
    },
    {
      "cell_type": "markdown",
      "id": "ca6f585e",
      "metadata": {
        "id": "ca6f585e"
      },
      "source": [
        "* __Задача 1__: Подсчитать произведение ненулевых элементов на диагонали прямоугольной матрицы.  \n",
        " Например, для X = np.array([[1, 0, 1], [2, 0, 2], [3, 0, 3], [4, 4, 4]]) ответ 3."
      ]
    },
    {
      "cell_type": "code",
      "execution_count": 9,
      "id": "065862fc",
      "metadata": {
        "colab": {
          "base_uri": "https://localhost:8080/"
        },
        "id": "065862fc",
        "outputId": "eff682c6-19f6-4603-c611-a448148486ed"
      },
      "outputs": [
        {
          "name": "stdout",
          "output_type": "stream",
          "text": [
            "Oroginal matrix:\n",
            " [[1, 4, 1, 0], [2, 4, 4, 5], [5, 5, 1, 1], [2, 4, 5, 0]]\n",
            "\n",
            "Result: 4\n"
          ]
        }
      ],
      "source": [
        "# Clear python\n",
        "\n",
        "matrix = [[random.randint(0, 5) for _ in range(4)] for _ in range(4)]\n",
        "print(\"Oroginal matrix:\\n\", matrix)\n",
        "\n",
        "non_zero_diag = [matrix[i][i] for i in range(len(matrix)) if matrix[i][i] != 0]\n",
        "product = prod(non_zero_diag)\n",
        "\n",
        "print(\"\\nResult:\", product)"
      ]
    },
    {
      "cell_type": "code",
      "execution_count": 10,
      "id": "PAbLxXoAsvud",
      "metadata": {
        "colab": {
          "base_uri": "https://localhost:8080/"
        },
        "id": "PAbLxXoAsvud",
        "outputId": "ecedd1b2-ebd2-4056-aa06-6c0b24fc804f"
      },
      "outputs": [
        {
          "name": "stdout",
          "output_type": "stream",
          "text": [
            "Original matrix:\n",
            " [[0 3 0 2]\n",
            " [2 3 4 1]\n",
            " [2 1 2 1]\n",
            " [2 2 3 4]]\n",
            "\n",
            "Result: 24\n"
          ]
        }
      ],
      "source": [
        "# Numpy\n",
        "\n",
        "arr = np.random.randint(low=0, high=5, size=(4, 4))\n",
        "print(\"Original matrix:\\n\", arr)\n",
        "\n",
        "product = np.prod(arr.diagonal(), axis=0, where=(arr.diagonal() != 0))\n",
        "print(\"\\nResult:\", product)"
      ]
    },
    {
      "cell_type": "markdown",
      "id": "9fc51d41",
      "metadata": {
        "id": "9fc51d41"
      },
      "source": [
        "* __Задача 2__: Даны два вектора x и y. Проверить, задают ли они одно и то же мультимножество.  \n",
        "  Например, для x = np.array([1, 2, 2, 4]), y = np.array([4, 2, 1, 2]) ответ True."
      ]
    },
    {
      "cell_type": "code",
      "execution_count": 11,
      "id": "a809e02f",
      "metadata": {
        "colab": {
          "base_uri": "https://localhost:8080/"
        },
        "id": "a809e02f",
        "outputId": "6f86e8db-2962-4c8b-823c-abb6ec2738d5"
      },
      "outputs": [
        {
          "name": "stdout",
          "output_type": "stream",
          "text": [
            "Matrix A:\n",
            " [1, 3, 1, 2]\n",
            "\n",
            "Matrix B:\n",
            " [1, 1, 2, 1]\n",
            "\n",
            "Equal multisets:  False\n"
          ]
        }
      ],
      "source": [
        "# Clear python\n",
        "\n",
        "A = [random.randint(1, 3) for _ in range(4)]\n",
        "B = [random.randint(1, 3) for _ in range(4)]\n",
        "\n",
        "print(\"Matrix A:\\n\", A)\n",
        "print(\"\\nMatrix B:\\n\", B)\n",
        "\n",
        "A.sort()\n",
        "B.sort()\n",
        "\n",
        "are_multisets_equal = A == B\n",
        "print(\"\\nEqual multisets: \", are_multisets_equal)"
      ]
    },
    {
      "cell_type": "code",
      "execution_count": 12,
      "id": "yoCXcHUFtRl5",
      "metadata": {
        "colab": {
          "base_uri": "https://localhost:8080/"
        },
        "id": "yoCXcHUFtRl5",
        "outputId": "62067139-496c-4ebb-aee2-71ea5956808f"
      },
      "outputs": [
        {
          "name": "stdout",
          "output_type": "stream",
          "text": [
            "Matrix A:\n",
            " [3 3 3 1]\n",
            "\n",
            "Matrix B:\n",
            " [3 1 3 1]\n",
            "\n",
            "Equal multisets:  False\n"
          ]
        }
      ],
      "source": [
        "# Numpy\n",
        "\n",
        "A = np.random.randint(low=1, high=4, size=(4))\n",
        "B = np.random.randint(low=1, high=4, size=(4))\n",
        "\n",
        "print(\"Matrix A:\\n\", A)\n",
        "print(\"\\nMatrix B:\\n\", B)\n",
        "\n",
        "print(\"\\nEqual multisets: \", np.all(np.sort(A) == np.sort(B)))"
      ]
    },
    {
      "cell_type": "markdown",
      "id": "b9c185c7",
      "metadata": {
        "id": "b9c185c7"
      },
      "source": [
        "* __Задача 3__: Найти максимальный элемент в векторе x среди элементов, перед которыми стоит ноль.\n",
        " Например, для x = np.array([6, 2, 0, 3, 0, 0, 5, 7, 0]) ответ 5."
      ]
    },
    {
      "cell_type": "code",
      "execution_count": 13,
      "id": "b57df008",
      "metadata": {
        "colab": {
          "base_uri": "https://localhost:8080/"
        },
        "id": "b57df008",
        "outputId": "5fba40cc-c666-4947-c5cf-c9447e2a407f"
      },
      "outputs": [
        {
          "name": "stdout",
          "output_type": "stream",
          "text": [
            "Original array:\n",
            " [3, 7, 0, 0, 0, 9, 3, 0, 0, 0]\n",
            "\n",
            "Max elem: 9\n"
          ]
        }
      ],
      "source": [
        "# Clear python\n",
        "\n",
        "arr = random.choices(range(10), weights=[0.5] + [0.05] * 9, k=10)\n",
        "print(\"Original array:\\n\", arr)\n",
        "\n",
        "max_val = None\n",
        "for i in range(1, len(arr)):\n",
        "    if arr[i - 1] == 0:\n",
        "        if max_val is None or arr[i] > max_val:\n",
        "            max_val = arr[i]\n",
        "print(\"\\nMax elem:\", max_val)"
      ]
    },
    {
      "cell_type": "code",
      "execution_count": 14,
      "id": "iYfYNdedtlcL",
      "metadata": {
        "colab": {
          "base_uri": "https://localhost:8080/"
        },
        "id": "iYfYNdedtlcL",
        "outputId": "5308d099-05cb-4063-dcf2-2553ff3d6835"
      },
      "outputs": [
        {
          "name": "stdout",
          "output_type": "stream",
          "text": [
            "Original array:\n",
            " [0 0 0 0 0 0 1 0 3 0]\n",
            "\n",
            "Max elem: 3\n"
          ]
        }
      ],
      "source": [
        "# Numpy\n",
        "\n",
        "arr = np.random.choice(\n",
        "    range(10), size=10, p=[0.55, 0.05, 0.05, 0.05, 0.05, 0.05, 0.05, 0.05, 0.05, 0.05]\n",
        ")\n",
        "print(\"Original array:\\n\", arr)\n",
        "\n",
        "next_values = np.where(arr == 0)[0] + 1\n",
        "max_val = np.max(arr[next_values[next_values < len(arr)]])\n",
        "print(\"\\nMax elem:\", max_val)"
      ]
    },
    {
      "cell_type": "markdown",
      "id": "480be4ce",
      "metadata": {
        "id": "480be4ce"
      },
      "source": [
        "* __Задача 4__: Реализовать кодирование длин серий (Run-length encoding). Для некоторого вектора x необходимо вернуть кортеж из двух векторов одинаковой длины. Первый содержит числа, а второй - сколько раз их нужно повторить.  \n",
        " Например, для x = np.array([2, 2, 2, 3, 3, 3, 5]) ответ (np.array([2, 3, 5]), np.array([3, 3, 1]))."
      ]
    },
    {
      "cell_type": "code",
      "execution_count": 15,
      "id": "3c592124",
      "metadata": {
        "colab": {
          "base_uri": "https://localhost:8080/"
        },
        "id": "3c592124",
        "outputId": "8cf034ba-e3da-41ed-ed0b-930a6309f1b8"
      },
      "outputs": [
        {
          "name": "stdout",
          "output_type": "stream",
          "text": [
            "Original array:\n",
            " [2, 4, 6, 4, 1, 2, 1]\n",
            "\n",
            "Result:\n",
            "[2, 4, 6, 1]\n",
            "[2, 2, 1, 2]\n"
          ]
        }
      ],
      "source": [
        "# Clear python\n",
        "\n",
        "arr = [random.randint(0, 6) for _ in range(7)]\n",
        "print(\"Original array:\\n\", arr)\n",
        "\n",
        "counter = Counter(arr)\n",
        "counter_keys = list(counter.keys())\n",
        "counter_values = list(counter.values())\n",
        "\n",
        "print(\"\\nResult:\")\n",
        "print(counter_keys)\n",
        "print(counter_values)"
      ]
    },
    {
      "cell_type": "code",
      "execution_count": 16,
      "id": "DOrub7zruDRu",
      "metadata": {
        "colab": {
          "base_uri": "https://localhost:8080/"
        },
        "id": "DOrub7zruDRu",
        "outputId": "ccd8cfad-5550-4562-f25e-f370ab546407"
      },
      "outputs": [
        {
          "name": "stdout",
          "output_type": "stream",
          "text": [
            "Original array:\n",
            " [3 3 0 3 1 0 0]\n",
            "\n",
            "Result:\n",
            " (array([3, 0, 3, 1, 0]), array([2, 1, 1, 1, 2], dtype=int64))\n"
          ]
        }
      ],
      "source": [
        "# Numpy\n",
        "\n",
        "arr = np.random.randint(low=0, high=5, size=(7))\n",
        "print(\"Original array:\\n\", arr)\n",
        "\n",
        "changes = np.concatenate(([1], np.diff(arr) != 0))\n",
        "indices = np.nonzero(changes)[0]\n",
        "values = arr[indices]\n",
        "counts = np.diff(np.concatenate((indices, [len(arr)])))\n",
        "\n",
        "print(\"\\nResult:\\n\", (values, counts))"
      ]
    },
    {
      "cell_type": "markdown",
      "id": "077532ec",
      "metadata": {
        "id": "077532ec"
      },
      "source": [
        "* __Задача 5__: Даны две выборки объектов - X и Y. Вычислить матрицу евклидовых расстояний между объектами. Сравните с функцией scipy.spatial.distance.cdist по скорости работы."
      ]
    },
    {
      "cell_type": "code",
      "execution_count": 3,
      "id": "1e807797",
      "metadata": {
        "colab": {
          "base_uri": "https://localhost:8080/"
        },
        "id": "1e807797",
        "outputId": "8c245e51-7b78-4d19-bd95-c6c85a275c09"
      },
      "outputs": [
        {
          "name": "stdout",
          "output_type": "stream",
          "text": [
            "\n",
            "Time taken (without numpy): 0.02100658416748047\n",
            "\n",
            "Time taken (Numpy): 0.00019478797912597656\n",
            "\n",
            "Time taken (scipy cdist): 0.0\n"
          ]
        },
        {
          "ename": "",
          "evalue": "",
          "output_type": "error",
          "traceback": [
            "\u001b[1;31mThe Kernel crashed while executing code in the current cell or a previous cell. \n",
            "\u001b[1;31mPlease review the code in the cell(s) to identify a possible cause of the failure. \n",
            "\u001b[1;31mClick <a href='https://aka.ms/vscodeJupyterKernelCrash'>here</a> for more info. \n",
            "\u001b[1;31mView Jupyter <a href='command:jupyter.viewOutput'>log</a> for further details."
          ]
        }
      ],
      "source": [
        "# Only python\n",
        "X = np.random.randint(0, 100, (100, 2))\n",
        "Y = np.random.randint(0, 100, (100, 2))\n",
        "distance_matrix = []\n",
        "\n",
        "start_time = time.time()\n",
        "for x in X:\n",
        "    row = []\n",
        "    for y in Y:\n",
        "        distance = math.sqrt(sum((xi - yi) ** 2 for xi, yi in zip(x, y)))\n",
        "        row.append(distance)\n",
        "    distance_matrix.append(row)\n",
        "end_time = time.time()\n",
        "\n",
        "print(\"\\nTime taken (without numpy):\", end_time - start_time)\n",
        "\n",
        "\n",
        "\n",
        "# With Numpy\n",
        "start_time = time.time()\n",
        "distances = np.sqrt(((X[:, np.newaxis] - Y) ** 2).sum(axis=2))\n",
        "end_time = time.time()\n",
        "\n",
        "print(\"\\nTime taken (Numpy):\", end_time - start_time)\n",
        "\n",
        "\n",
        "\n",
        "# With scipy.spatial.distance.cdist\n",
        "start_time = time.time()\n",
        "distances_cdist = cdist(X, Y)\n",
        "end_time = time.time()\n",
        "\n",
        "print(\"\\nTime taken (scipy cdist):\", end_time - start_time)"
      ]
    },
    {
      "cell_type": "markdown",
      "id": "973e8064",
      "metadata": {
        "id": "973e8064"
      },
      "source": [
        "_______\n",
        "________"
      ]
    },
    {
      "cell_type": "markdown",
      "id": "1104acb7",
      "metadata": {
        "id": "1104acb7"
      },
      "source": [
        "* #### __Задача 6__: CrunchieMunchies __*__\n",
        "\n",
        "Вы работаете в отделе маркетинга пищевой компании MyCrunch, которая разрабатывает новый вид вкусных, полезных злаков под названием **CrunchieMunchies**.\n",
        "\n",
        "Вы хотите продемонстрировать потребителям, насколько полезны ваши хлопья по сравнению с другими ведущими брендами, поэтому вы собрали данные о питании нескольких разных конкурентов.\n",
        "\n",
        "Ваша задача - использовать вычисления Numpy для анализа этих данных и доказать, что ваши **СrunchieMunchies** - самый здоровый выбор для потребителей.\n"
      ]
    },
    {
      "cell_type": "code",
      "execution_count": 22,
      "id": "10a77f8d",
      "metadata": {
        "colab": {
          "base_uri": "https://localhost:8080/"
        },
        "id": "10a77f8d",
        "outputId": "d54b4776-e4bd-4d63-8fbe-3e01e26f9f33"
      },
      "outputs": [],
      "source": [
        "import numpy as np"
      ]
    },
    {
      "cell_type": "markdown",
      "id": "ab87cb03",
      "metadata": {
        "id": "ab87cb03"
      },
      "source": [
        "1. Просмотрите файл cereal.csv. Этот файл содержит количества калорий для различных марок хлопьев. Загрузите данные из файла и сохраните их как calorie_stats."
      ]
    },
    {
      "cell_type": "code",
      "execution_count": 23,
      "id": "9681ebf2",
      "metadata": {
        "id": "9681ebf2"
      },
      "outputs": [
        {
          "name": "stdout",
          "output_type": "stream",
          "text": [
            "[ 70. 120.  70.  50. 110. 110. 110. 130.  90.  90. 120. 110. 120. 110.\n",
            " 110. 110. 100. 110. 110. 110. 100. 110. 100. 100. 110. 110. 100. 120.\n",
            " 120. 110. 100. 110. 100. 110. 120. 120. 110. 110. 110. 140. 110. 100.\n",
            " 110. 100. 150. 150. 160. 100. 120. 140.  90. 130. 120. 100.  50.  50.\n",
            " 100. 100. 120. 100.  90. 110. 110.  80.  90.  90. 110. 110.  90. 110.\n",
            " 140. 100. 110. 110. 100. 100. 110.]\n"
          ]
        }
      ],
      "source": [
        "file_path = './data/cereal.csv'\n",
        "\n",
        "calorie_stats = np.loadtxt(file_path, delimiter=\",\")\n",
        "print(calorie_stats)"
      ]
    },
    {
      "cell_type": "markdown",
      "id": "139cfbd8",
      "metadata": {
        "id": "139cfbd8"
      },
      "source": [
        "2. В одной порции CrunchieMunchies содержится 60 калорий. Насколько выше среднее количество калорий у ваших конкурентов?\n",
        "\n",
        "Сохраните ответ в переменной average_calories и распечатайте переменную в терминале"
      ]
    },
    {
      "cell_type": "code",
      "execution_count": 25,
      "id": "7036d240",
      "metadata": {
        "id": "7036d240"
      },
      "outputs": [
        {
          "name": "stdout",
          "output_type": "stream",
          "text": [
            "Average calories: 106.88\n",
            "The average number of calories is 46.88 higher.\n",
            "\n"
          ]
        }
      ],
      "source": [
        "average_calories = np.average(calorie_stats)\n",
        "print(f\"Average calories: {average_calories:.2f}\")\n",
        "print(f\"The average number of calories is {average_calories - 60:.2f} higher.\\n\")"
      ]
    },
    {
      "cell_type": "markdown",
      "id": "b2ddb4cd",
      "metadata": {
        "id": "b2ddb4cd"
      },
      "source": [
        "3. Корректно ли среднее количество калорий отражает распределение набора данных? Давайте отсортируем данные и посмотрим.\n",
        "\n",
        "Отсортируйте данные и сохраните результат в переменной calorie_stats_sorted. Распечатайте отсортированную информацию"
      ]
    },
    {
      "cell_type": "code",
      "execution_count": 26,
      "id": "46eeb4ed",
      "metadata": {
        "id": "46eeb4ed"
      },
      "outputs": [
        {
          "name": "stdout",
          "output_type": "stream",
          "text": [
            "Sorted statistics: \n",
            " [ 50.  50.  50.  70.  70.  80.  90.  90.  90.  90.  90.  90.  90. 100.\n",
            " 100. 100. 100. 100. 100. 100. 100. 100. 100. 100. 100. 100. 100. 100.\n",
            " 100. 100. 110. 110. 110. 110. 110. 110. 110. 110. 110. 110. 110. 110.\n",
            " 110. 110. 110. 110. 110. 110. 110. 110. 110. 110. 110. 110. 110. 110.\n",
            " 110. 110. 110. 120. 120. 120. 120. 120. 120. 120. 120. 120. 120. 130.\n",
            " 130. 140. 140. 140. 150. 150. 160.] \n",
            "\n"
          ]
        }
      ],
      "source": [
        "calorie_stats_sorted = np.sort(calorie_stats)\n",
        "print(\"Sorted statistics: \\n\", calorie_stats_sorted, \"\\n\")"
      ]
    },
    {
      "cell_type": "markdown",
      "id": "4dc74116",
      "metadata": {
        "id": "4dc74116"
      },
      "source": [
        "4. Похоже, что большинство значений выше среднего. Давайте посмотрим, является ли медиана наиболее корректным показателем набора данных.\n",
        "\n",
        "Вычислите медиану набора данных и сохраните свой ответ в median_calories. Выведите медиану, чтобы вы могли видеть, как она сравнивается со средним значением."
      ]
    },
    {
      "cell_type": "code",
      "execution_count": 27,
      "id": "b56627c3",
      "metadata": {
        "id": "b56627c3"
      },
      "outputs": [
        {
          "name": "stdout",
          "output_type": "stream",
          "text": [
            "Median: 110.0 \n",
            "\n"
          ]
        }
      ],
      "source": [
        "median_calories = np.median(calorie_stats_sorted)\n",
        "print(\"Median:\", median_calories, \"\\n\")"
      ]
    },
    {
      "cell_type": "markdown",
      "id": "a63ab72f",
      "metadata": {
        "id": "a63ab72f"
      },
      "source": [
        "5. В то время как медиана показывает, что по крайней мере половина наших значений составляет более 100 калорий, было бы более впечатляюще показать, что значительная часть конкурентов имеет более высокое количество калорий, чем CrunchieMunchies.\n",
        "\n",
        "Рассчитайте различные процентили и распечатайте их, пока не найдете наименьший процентиль, превышающий 60 калорий. Сохраните это значение в переменной nth_percentile."
      ]
    },
    {
      "cell_type": "code",
      "execution_count": 28,
      "id": "fe80ce03",
      "metadata": {
        "id": "fe80ce03"
      },
      "outputs": [
        {
          "name": "stdout",
          "output_type": "stream",
          "text": [
            "The smallest percentile exceeding 60 calories is: 4 \n",
            "\n"
          ]
        }
      ],
      "source": [
        "percentiles_to_check = np.arange(0, 101, 1)\n",
        "nth_percentile = None\n",
        "for p in percentiles_to_check:\n",
        "    percentile_value = np.percentile(calorie_stats, p)\n",
        "    if percentile_value > 60:\n",
        "        nth_percentile = p\n",
        "        break\n",
        "print(\"The smallest percentile exceeding 60 calories is:\", nth_percentile, \"\\n\")"
      ]
    },
    {
      "cell_type": "markdown",
      "id": "a2a3c5aa",
      "metadata": {
        "id": "a2a3c5aa"
      },
      "source": [
        "6. Хотя процентиль показывает нам, что у большинства конкурентов количество калорий намного выше, это неудобная концепция для использования в маркетинговых материалах.\n",
        "\n",
        "Вместо этого давайте подсчитаем процент хлопьев, в которых содержится более 60 калорий на порцию. Сохраните свой ответ в переменной more_calories и распечатайте его"
      ]
    },
    {
      "cell_type": "code",
      "execution_count": 29,
      "id": "ade0f6ea",
      "metadata": {
        "id": "ade0f6ea"
      },
      "outputs": [
        {
          "name": "stdout",
          "output_type": "stream",
          "text": [
            "Percentage of cereals with more than 60 calories: 96.10%\n",
            "\n"
          ]
        }
      ],
      "source": [
        "more_calories = round((np.sum(calorie_stats > 60) / len(calorie_stats)) * 100, 2)\n",
        "print(f\"Percentage of cereals with more than 60 calories: {more_calories:.2f}%\\n\")"
      ]
    },
    {
      "cell_type": "markdown",
      "id": "1735d65b",
      "metadata": {
        "id": "1735d65b"
      },
      "source": [
        "7. Это действительно высокий процент. Это будет очень полезно, когда мы будем продвигать CrunchieMunchies. Но один вопрос заключается в том, насколько велики различия в наборе данных? Можем ли мы сделать обобщение, что в большинстве злаков содержится около 100 калорий или разброс еще больше?\n",
        "\n",
        "Рассчитайте величину отклонения, найдя стандартное отклонение, Сохраните свой ответ в calorie_std и распечатайте на терминале. Как мы можем включить эту ценность в наш анализ?"
      ]
    },
    {
      "cell_type": "code",
      "execution_count": 30,
      "id": "85c8df1f",
      "metadata": {
        "id": "85c8df1f"
      },
      "outputs": [
        {
          "name": "stdout",
          "output_type": "stream",
          "text": [
            "Standard deviation of calories: 19.36\n"
          ]
        }
      ],
      "source": [
        "calorie_std = np.std(calorie_stats)\n",
        "print(f\"Standard deviation of calories: {calorie_std:.2f}\")"
      ]
    },
    {
      "cell_type": "markdown",
      "id": "037455c5",
      "metadata": {
        "id": "037455c5"
      },
      "source": [
        "8. Напишите короткий абзац, в котором кратко изложите свои выводы и то, как, по вашему мнению, эти данные могут быть использованы в интересах Mycrunch при маркетинге CrunchieMunchies."
      ]
    },
    {
      "cell_type": "markdown",
      "id": "d01c1122",
      "metadata": {},
      "source": [
        "Анализ показал, что CrunchieMunchies выделяется на фоне конкурентов благодаря своему низкому содержанию калорий — всего 60 калорий на порцию. Среднее значение калорий у конкурентов значительно выше, а медиана показывает, что половина из них содержит более 100 калорий. Значительное стандартное отклонение подтверждает широкий разброс в калорийности, что подчеркивает уникальность CrunchieMunchies как низкокалорийного выбора, и эти данные можно эффективно использовать в маркетинге."
      ]
    }
  ],
  "metadata": {
    "colab": {
      "provenance": []
    },
    "kernelspec": {
      "display_name": "Python 3 (ipykernel)",
      "language": "python",
      "name": "python3"
    },
    "language_info": {
      "codemirror_mode": {
        "name": "ipython",
        "version": 3
      },
      "file_extension": ".py",
      "mimetype": "text/x-python",
      "name": "python",
      "nbconvert_exporter": "python",
      "pygments_lexer": "ipython3",
      "version": "3.11.9"
    }
  },
  "nbformat": 4,
  "nbformat_minor": 5
}
